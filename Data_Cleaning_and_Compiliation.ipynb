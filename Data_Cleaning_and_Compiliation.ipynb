{
 "cells": [
  {
   "cell_type": "code",
   "execution_count": 1,
   "metadata": {},
   "outputs": [],
   "source": [
    "import pandas as pd\n",
    "import numpy as np"
   ]
  },
  {
   "cell_type": "code",
   "execution_count": 94,
   "metadata": {},
   "outputs": [],
   "source": [
    "#jan_17 = pd.read_csv('data/201701-citibike-tripdata.csv', index_col=['Start Time'], parse_dates=['Start Time'])\n",
    "#jan_17.rename(columns={'Trip Duration':'tripduration', 'Stop Time':'stoptime', 'Start Station ID':'start station id',\n",
    "#                       'Start Station Name':'start station name', 'Start Station Latitude':'start station latitude',\n",
    "#                       'Start Station Longitude':'start station longitude', 'End Station ID':'end station id', \n",
    "#                       'End Station Name':'end station name', 'End Station Latitude':'end station latitude', \n",
    "#                       'End Station Longitude':'end station longitude', 'Bike ID':'bikeid', 'User Type':'usertype',\n",
    "#                       'Birth Year':'birth year', 'Gender':'gender'}, inplace = True)\n",
    "#jan_17.info()"
   ]
  },
  {
   "cell_type": "code",
   "execution_count": 96,
   "metadata": {},
   "outputs": [],
   "source": [
    "#feb_17 = pd.read_csv('data/201702-citibike-tripdata.csv', index_col=['Start Time'], parse_dates=['Start Time'])\n",
    "#feb_17.rename(columns={'Trip Duration':'tripduration', 'Stop Time':'stoptime', 'Start Station ID':'start station id',\n",
    "#                       'Start Station Name':'start station name', 'Start Station Latitude':'start station latitude',\n",
    "#                       'Start Station Longitude':'start station longitude', 'End Station ID':'end station id', \n",
    "#                       'End Station Name':'end station name', 'End Station Latitude':'end station latitude', \n",
    "#                       'End Station Longitude':'end station longitude', 'Bike ID':'bikeid', 'User Type':'usertype',\n",
    "#                       'Birth Year':'birth year', 'Gender':'gender'}, inplace = True)\n",
    "#feb_17.info()"
   ]
  },
  {
   "cell_type": "code",
   "execution_count": 98,
   "metadata": {},
   "outputs": [],
   "source": [
    "#mar_17 = pd.read_csv('data/201703-citibike-tripdata.csv', index_col=['Start Time'], parse_dates=['Start Time'])\n",
    "#mar_17.rename(columns={'Trip Duration':'tripduration', 'Stop Time':'stoptime', 'Start Station ID':'start station id',\n",
    "#                       'Start Station Name':'start station name', 'Start Station Latitude':'start station latitude',\n",
    "#                       'Start Station Longitude':'start station longitude', 'End Station ID':'end station id', \n",
    "#                       'End Station Name':'end station name', 'End Station Latitude':'end station latitude', \n",
    "#                       'End Station Longitude':'end station longitude', 'Bike ID':'bikeid', 'User Type':'usertype',\n",
    "#                       'Birth Year':'birth year', 'Gender':'gender'}, inplace = True)\n",
    "#mar_17.info()"
   ]
  },
  {
   "cell_type": "code",
   "execution_count": 100,
   "metadata": {},
   "outputs": [],
   "source": [
    "#apr_17 = pd.read_csv('data/201704-citibike-tripdata.csv', index_col=['starttime'], parse_dates=['starttime'])\n",
    "#apr_17.info()"
   ]
  },
  {
   "cell_type": "code",
   "execution_count": 102,
   "metadata": {},
   "outputs": [],
   "source": [
    "#may_17 = pd.read_csv('data/201705-citibike-tripdata.csv', index_col=['starttime'], parse_dates=['starttime'])\n",
    "#may_17.info()"
   ]
  },
  {
   "cell_type": "code",
   "execution_count": 104,
   "metadata": {},
   "outputs": [],
   "source": [
    "#jun_17 = pd.read_csv('data/201706-citibike-tripdata.csv', index_col=['starttime'], parse_dates=['starttime'])\n",
    "#jun_17.info()"
   ]
  },
  {
   "cell_type": "code",
   "execution_count": 92,
   "metadata": {},
   "outputs": [],
   "source": [
    "# For Reference When Making Changes\n",
    "#h1_17[['tripduration', 'age']].describe().round(2)\n",
    "#h1_17.head()"
   ]
  },
  {
   "cell_type": "code",
   "execution_count": 55,
   "metadata": {},
   "outputs": [],
   "source": [
    "# H1 2017\n",
    "# Merge month files\n",
    "#h1_17 = pd.concat([jan_17, feb_17, mar_17, apr_17, may_17, jun_17])\n",
    "\n",
    "# Add Age Column\n",
    "#year = 2017\n",
    "#h1_17['age'] = year - h1_17['birth year']\n",
    "\n",
    "# Filter Age/Ride Time\n",
    "#h1_17[['tripduration', 'age']].describe().round(2)\n",
    "\n",
    "#len(h1_17[h1_17['age'] > 100])\n",
    "#h1_17[h1_17['age'] > 100] = np.nan\n",
    "\n",
    "#len(h1_17[h1_17['tripduration'] > 10800])\n",
    "#h1_17[h1_17['tripduration'] > 10800] = np.nan\n",
    "#h1_17.info()\n",
    "\n",
    "# Remove Unneeded Columns\n",
    "#cln = ['tripduration', 'start station name', 'end station name', 'bikeid', 'usertype', 'age', 'gender']\n",
    "#h1_17 = h1_17[cln]"
   ]
  },
  {
   "cell_type": "code",
   "execution_count": 57,
   "metadata": {},
   "outputs": [],
   "source": [
    "# Write H1 to a CSV File\n",
    "#h1_17.to_csv('cb_2017.csv')"
   ]
  },
  {
   "cell_type": "code",
   "execution_count": null,
   "metadata": {},
   "outputs": [],
   "source": [
    "# Starting H2 2017"
   ]
  },
  {
   "cell_type": "code",
   "execution_count": 60,
   "metadata": {},
   "outputs": [],
   "source": [
    "#jul_17 = pd.read_csv('data/201707-citibike-tripdata.csv', index_col=['starttime'], parse_dates=['starttime'])\n",
    "#jul_17.info()"
   ]
  },
  {
   "cell_type": "code",
   "execution_count": 62,
   "metadata": {},
   "outputs": [],
   "source": [
    "#aug_17 = pd.read_csv('data/201708-citibike-tripdata.csv', index_col=['starttime'], parse_dates=['starttime'])\n",
    "#aug_17.info()"
   ]
  },
  {
   "cell_type": "code",
   "execution_count": 64,
   "metadata": {},
   "outputs": [],
   "source": [
    "#sep_17 = pd.read_csv('data/201709-citibike-tripdata.csv', index_col=['starttime'], parse_dates=['starttime'])\n",
    "#sep_17.info()"
   ]
  },
  {
   "cell_type": "code",
   "execution_count": 69,
   "metadata": {},
   "outputs": [],
   "source": [
    "#oct_17 = pd.read_csv('data/201710-citibike-tripdata.csv', index_col=['starttime'], parse_dates=['starttime'])\n",
    "#oct_17.info()"
   ]
  },
  {
   "cell_type": "code",
   "execution_count": 71,
   "metadata": {},
   "outputs": [],
   "source": [
    "#nov_17 = pd.read_csv('data/201711-citibike-tripdata.csv', index_col=['starttime'], parse_dates=['starttime'])\n",
    "#nov_17.info()"
   ]
  },
  {
   "cell_type": "code",
   "execution_count": 89,
   "metadata": {},
   "outputs": [],
   "source": [
    "#dec_17 = pd.read_csv('data/201712-citibike-tripdata.csv', index_col=['starttime'], parse_dates=['starttime'])\n",
    "#dec_17.info()"
   ]
  },
  {
   "cell_type": "code",
   "execution_count": 90,
   "metadata": {},
   "outputs": [],
   "source": [
    "# For Reference When Making Changes\n",
    "#h2_17[['tripduration', 'age']].describe().round(2)\n",
    "#h2_17.head()\n",
    "#h2_17.info()"
   ]
  },
  {
   "cell_type": "code",
   "execution_count": 91,
   "metadata": {},
   "outputs": [],
   "source": [
    "# Merge month files\n",
    "#h2_17 = pd.concat([jul_17, aug_17, sep_17, oct_17, nov_17, dec_17])\n",
    "\n",
    "# Add Age Column\n",
    "#year = 2017\n",
    "#h2_17['age'] = year - h2_17['birth year']\n",
    "\n",
    "# Filter Age/Ride Time\n",
    "#h2_17[['tripduration', 'age']].describe().round(2)\n",
    "\n",
    "#len(h2_17[h2_17['age'] > 100])\n",
    "#h2_17[h2_17['age'] > 100] = np.nan\n",
    "\n",
    "#len(h2_17[h2_17['tripduration'] > 10800])\n",
    "#h2_17[h2_17['tripduration'] > 10800] = np.nan\n",
    "#h2_17.info()\n",
    "\n",
    "# Remove Unneeded Columns\n",
    "#cln = ['tripduration', 'start station name', 'end station name', 'bikeid', 'usertype', 'age', 'gender']\n",
    "#h2_17 = h2_17[cln]\n",
    "#h2_17.head()"
   ]
  },
  {
   "cell_type": "code",
   "execution_count": 105,
   "metadata": {},
   "outputs": [],
   "source": [
    "# Append H2 to CSV File\n",
    "#h2_17.to_csv('cb_2017.csv', mode='a', header=False)"
   ]
  },
  {
   "cell_type": "code",
   "execution_count": 27,
   "metadata": {},
   "outputs": [],
   "source": [
    "# Testing to See if this Worked\n",
    "#full_17 = pd.read_csv('cb_2017.csv', index_col=[0], parse_dates=[0])"
   ]
  },
  {
   "cell_type": "code",
   "execution_count": 34,
   "metadata": {},
   "outputs": [],
   "source": [
    "#full_17.info()\n",
    "#full_17.loc['2017-07-23']\n",
    "#full_17.columns\n",
    "#full_17.loc[]\n",
    "#full_17.loc['2017-08-22'][['tripduration', 'age']].describe().round(2)"
   ]
  },
  {
   "cell_type": "code",
   "execution_count": 17,
   "metadata": {},
   "outputs": [],
   "source": [
    "# H1 2018\n",
    "#jan_18 = pd.read_csv('data/201801-citibike-tripdata.csv', index_col=['starttime'], parse_dates=['starttime'])\n",
    "#jan_18.info()\n",
    "#feb_18 = pd.read_csv('data/201802-citibike-tripdata.csv', index_col=['starttime'], parse_dates=['starttime'])\n",
    "#feb_18.info()\n",
    "#mar_18 = pd.read_csv('data/201803-citibike-tripdata.csv', index_col=['starttime'], parse_dates=['starttime'])\n",
    "#mar_18.info()\n",
    "#apr_18 = pd.read_csv('data/201804-citibike-tripdata.csv', index_col=['starttime'], parse_dates=['starttime'])\n",
    "#apr_18.info()\n",
    "#may_18 = pd.read_csv('data/201805-citibike-tripdata.csv', index_col=['starttime'], parse_dates=['starttime'])\n",
    "#may_18.info()\n",
    "#jun_18 = pd.read_csv('data/201806-citibike-tripdata.csv', index_col=['starttime'], parse_dates=['starttime'])\n",
    "#jun_18.info()"
   ]
  },
  {
   "cell_type": "code",
   "execution_count": 31,
   "metadata": {},
   "outputs": [],
   "source": [
    "# For Reference When Making Changes\n",
    "#h1_18[['tripduration', 'age']].describe().round(2)\n",
    "#h1_18.head()\n",
    "#h1_18.info()"
   ]
  },
  {
   "cell_type": "code",
   "execution_count": 32,
   "metadata": {},
   "outputs": [],
   "source": [
    "# H1 2018\n",
    "# Merge month files\n",
    "#h1_18 = pd.concat([jan_18, feb_18, mar_18, apr_18, may_18, jun_18])\n",
    "\n",
    "# Add Age Column\n",
    "#year = 2018\n",
    "#h1_18['age'] = year - h1_18['birth year']\n",
    "\n",
    "# Filter Age/Ride Time\n",
    "#h1_18[['tripduration', 'age']].describe().round(2)\n",
    "\n",
    "#len(h1_18[h1_18['age'] > 100])\n",
    "#h1_18[h1_18['age'] > 100] = np.nan\n",
    "\n",
    "#len(h1_18[h1_18['tripduration'] > 10800])\n",
    "#h1_18[h1_18['tripduration'] > 10800] = np.nan\n",
    "#h1_18.info()\n",
    "\n",
    "# Remove Unneeded Columns\n",
    "#cln = ['tripduration', 'start station name', 'end station name', 'bikeid', 'usertype', 'age', 'gender']\n",
    "#h1_18 = h1_18[cln]\n",
    "#h1_18.head()"
   ]
  },
  {
   "cell_type": "code",
   "execution_count": 33,
   "metadata": {},
   "outputs": [],
   "source": [
    "# Write H1 to a CSV File\n",
    "#h1_18.to_csv('cb_2018.csv')"
   ]
  },
  {
   "cell_type": "code",
   "execution_count": 79,
   "metadata": {},
   "outputs": [],
   "source": [
    "# H2 2018\n",
    "#jul_18 = pd.read_csv('data/201807-citibike-tripdata.csv', index_col=['starttime'], parse_dates=['starttime'])\n",
    "#jul_18.info()\n",
    "#aug_18 = pd.read_csv('data/201808-citibike-tripdata.csv', index_col=['starttime'], parse_dates=['starttime'])\n",
    "#aug_18.info()\n",
    "#sep_18 = pd.read_csv('data/201809-citibike-tripdata.csv', index_col=['starttime'], parse_dates=['starttime'])\n",
    "#sep_18.info()\n",
    "#oct_18 = pd.read_csv('data/201810-citibike-tripdata.csv', index_col=['starttime'], parse_dates=['starttime'])\n",
    "#oct_18.info()\n",
    "#nov_18 = pd.read_csv('data/201811-citibike-tripdata.csv', index_col=['starttime'], parse_dates=['starttime'])\n",
    "#nov_18.info()\n",
    "#dec_18 = pd.read_csv('data/201812-citibike-tripdata.csv', index_col=['starttime'], parse_dates=['starttime'])\n",
    "#dec_18.info()"
   ]
  },
  {
   "cell_type": "code",
   "execution_count": 68,
   "metadata": {},
   "outputs": [],
   "source": [
    "# For Reference When Making Changes\n",
    "#h2_18[['tripduration', 'age']].describe().round(2)\n",
    "#h2_18.head()\n",
    "#h2_18.info()"
   ]
  },
  {
   "cell_type": "code",
   "execution_count": 83,
   "metadata": {},
   "outputs": [],
   "source": [
    "# H2 2018\n",
    "# Merge month files\n",
    "#h2_18 = pd.concat([jul_18, aug_18, sep_18, oct_18, nov_18, dec_18])\n",
    "#h2_18.info()\n",
    "\n",
    "# Add Age Column\n",
    "#year = 2018\n",
    "#h2_18['age'] = year - h2_18['birth year']\n",
    "\n",
    "# Filter Age/Ride Time\n",
    "#h2_18[['tripduration', 'age']].describe().round(2)\n",
    "\n",
    "#len(h2_18[h2_18['age'] > 100])\n",
    "#h2_18[h2_18['age'] > 100] = np.nan\n",
    "\n",
    "#len(h2_18[h2_18['tripduration'] > 10800])\n",
    "#h2_18[h2_18['tripduration'] > 10800] = np.nan\n",
    "#h2_18.info()\n",
    "\n",
    "# Remove Unneeded Columns\n",
    "#cln = ['tripduration', 'start station name', 'end station name', 'bikeid', 'usertype', 'age', 'gender']\n",
    "#h2_18 = h2_18[cln]\n",
    "#h2_18.head()"
   ]
  },
  {
   "cell_type": "code",
   "execution_count": 89,
   "metadata": {},
   "outputs": [],
   "source": [
    "# Append H2 to CSV File\n",
    "#h2_18.to_csv('cb_2018.csv', mode='a', header=False)\n",
    "#h2_18.info()"
   ]
  },
  {
   "cell_type": "code",
   "execution_count": 95,
   "metadata": {},
   "outputs": [],
   "source": [
    "#full_18 = pd.read_csv('cb_2018.csv', index_col=[0], parse_dates=[0])"
   ]
  },
  {
   "cell_type": "code",
   "execution_count": 96,
   "metadata": {},
   "outputs": [],
   "source": [
    "#full_18.info()\n",
    "#full_18.loc['2018-07-23']\n",
    "#full_18.columns\n",
    "#full_18.loc[]\n",
    "#full_18.loc['2018-08-23'][['tripduration', 'age']].describe().round(2)"
   ]
  },
  {
   "cell_type": "code",
   "execution_count": 14,
   "metadata": {},
   "outputs": [],
   "source": [
    "# H1 2019\n",
    "#jan_19 = pd.read_csv('data/201901-citibike-tripdata.csv', index_col=['starttime'], parse_dates=['starttime'])\n",
    "#jan_19.info()\n",
    "#feb_19 = pd.read_csv('data/201902-citibike-tripdata.csv', index_col=['starttime'], parse_dates=['starttime'])\n",
    "#feb_19.info()\n",
    "#mar_19 = pd.read_csv('data/201903-citibike-tripdata.csv', index_col=['starttime'], parse_dates=['starttime'])\n",
    "#mar_19.info()\n",
    "#apr_19 = pd.read_csv('data/201904-citibike-tripdata.csv', index_col=['starttime'], parse_dates=['starttime'])\n",
    "#apr_19.info()\n",
    "#may_19 = pd.read_csv('data/201905-citibike-tripdata.csv', index_col=['starttime'], parse_dates=['starttime'])\n",
    "#may_19.info()\n",
    "#jun_19 = pd.read_csv('data/201906-citibike-tripdata.csv', index_col=['starttime'], parse_dates=['starttime'])\n",
    "#jun_19.info()"
   ]
  },
  {
   "cell_type": "code",
   "execution_count": 28,
   "metadata": {},
   "outputs": [],
   "source": [
    "# For Reference When Making Changes\n",
    "#h1_19[['tripduration', 'age']].describe().round(2)\n",
    "#h1_19.head()\n",
    "#h1_19.info()"
   ]
  },
  {
   "cell_type": "code",
   "execution_count": 31,
   "metadata": {},
   "outputs": [],
   "source": [
    "# H1 2019\n",
    "# Merge month files\n",
    "#h1_19 = pd.concat([jan_19, feb_19, mar_19, apr_19, may_19, jun_19])\n",
    "#h1_19.info()\n",
    "\n",
    "# Add Age Column\n",
    "#year = 2019\n",
    "#h1_19['age'] = year - h1_19['birth year']\n",
    "\n",
    "# Filter Age/Ride Time\n",
    "#h1_19[['tripduration', 'age']].describe().round(2)\n",
    "\n",
    "#len(h1_19[h1_19['age'] > 100])\n",
    "#h1_19[h1_19['age'] > 100] = np.nan\n",
    "\n",
    "#len(h1_19[h1_19['tripduration'] > 10800])\n",
    "#h1_19[h1_19['tripduration'] > 10800] = np.nan\n",
    "#h1_19.info()\n",
    "\n",
    "# Remove Unneeded Columns\n",
    "#cln = ['tripduration', 'start station name', 'end station name', 'bikeid', 'usertype', 'age', 'gender']\n",
    "#h1_19 = h1_19[cln]\n",
    "#h1_19.head()"
   ]
  },
  {
   "cell_type": "code",
   "execution_count": 30,
   "metadata": {},
   "outputs": [],
   "source": [
    "# Write H1 to a CSV File\n",
    "#h1_19.to_csv('cb_2019.csv')"
   ]
  },
  {
   "cell_type": "code",
   "execution_count": 44,
   "metadata": {
    "scrolled": true
   },
   "outputs": [],
   "source": [
    "# H2 2019\n",
    "#jul_19 = pd.read_csv('data/201907-citibike-tripdata.csv', index_col=['starttime'], parse_dates=['starttime'])\n",
    "#jul_19.info()\n",
    "#aug_19 = pd.read_csv('data/201908-citibike-tripdata.csv', index_col=['starttime'], parse_dates=['starttime'])\n",
    "#aug_19.info()\n",
    "#sep_19 = pd.read_csv('data/201909-citibike-tripdata.csv', index_col=['starttime'], parse_dates=['starttime'])\n",
    "#sep_19.info()\n",
    "#oct_19 = pd.read_csv('data/201910-citibike-tripdata.csv', index_col=['starttime'], parse_dates=['starttime'])\n",
    "#oct_19.info()\n",
    "#nov_19 = pd.read_csv('data/201911-citibike-tripdata.csv', index_col=['starttime'], parse_dates=['starttime'])\n",
    "#nov_19.info()\n",
    "#dec_19 = pd.read_csv('data/201912-citibike-tripdata.csv', index_col=['starttime'], parse_dates=['starttime'])\n",
    "#dec_19.info()"
   ]
  },
  {
   "cell_type": "code",
   "execution_count": 62,
   "metadata": {},
   "outputs": [],
   "source": [
    "# For Reference When Making Changes\n",
    "#h2_19[['tripduration', 'age']].describe().round(2)\n",
    "#h2_19.head()\n",
    "#h2_19.info()"
   ]
  },
  {
   "cell_type": "code",
   "execution_count": 61,
   "metadata": {},
   "outputs": [],
   "source": [
    "# H2 2019\n",
    "# Merge month files\n",
    "#h2_19 = pd.concat([jul_19, aug_19, sep_19, oct_19, nov_19, dec_19])\n",
    "#h2_19.info()\n",
    "\n",
    "# Add Age Column\n",
    "#year = 2019\n",
    "#h2_19['age'] = year - h2_19['birth year']\n",
    "\n",
    "# Filter Age/Ride Time\n",
    "#h2_19[['tripduration', 'age']].describe().round(2)\n",
    "\n",
    "#len(h2_19[h2_19['age'] > 100])\n",
    "#h2_19[h2_19['age'] > 100] = np.nan\n",
    "\n",
    "#len(h2_19[h2_19['tripduration'] > 10800])\n",
    "#h2_19[h2_19['tripduration'] > 10800] = np.nan\n",
    "#h2_19.info()\n",
    "\n",
    "# Remove Unneeded Columns\n",
    "#cln = ['tripduration', 'start station name', 'end station name', 'bikeid', 'usertype', 'age', 'gender']\n",
    "#h2_19 = h2_19[cln]\n",
    "#h2_19.head()"
   ]
  },
  {
   "cell_type": "code",
   "execution_count": 63,
   "metadata": {},
   "outputs": [],
   "source": [
    "# Append H2 to CSV File\n",
    "#h2_19.to_csv('cb_2019.csv', mode='a', header=False)\n",
    "#h2_19.info()"
   ]
  },
  {
   "cell_type": "code",
   "execution_count": 6,
   "metadata": {},
   "outputs": [],
   "source": [
    "# Testing to See if this Worked\n",
    "#full_19 = pd.read_csv('cb_2019.csv', index_col=[0], parse_dates=[0])\n",
    "#full_19.info()\n",
    "#full_19.loc['2019-07-23']\n",
    "#full_19.columns\n",
    "#full_19.loc[]\n",
    "#full_19.loc['2019-08-22'][['tripduration', 'age']].describe().round(2)"
   ]
  },
  {
   "cell_type": "code",
   "execution_count": 20,
   "metadata": {
    "scrolled": true
   },
   "outputs": [],
   "source": [
    "# YTD 2020\n",
    "#jan_20 = pd.read_csv('data/202001-citibike-tripdata.csv', index_col=['starttime'], parse_dates=['starttime'])\n",
    "#jan_20.info()\n",
    "#feb_20 = pd.read_csv('data/202002-citibike-tripdata.csv', index_col=['starttime'], parse_dates=['starttime'])\n",
    "#feb_20.info()\n",
    "#mar_20 = pd.read_csv('data/202003-citibike-tripdata.csv', index_col=['starttime'], parse_dates=['starttime'])\n",
    "#mar_20.info()\n",
    "#apr_20 = pd.read_csv('data/202004-citibike-tripdata.csv', index_col=['starttime'], parse_dates=['starttime'])\n",
    "#apr_20.info()\n",
    "#may_20 = pd.read_csv('data/202005-citibike-tripdata.csv', index_col=['starttime'], parse_dates=['starttime'])\n",
    "#may_20.info()\n",
    "#jun_20 = pd.read_csv('data/202006-citibike-tripdata.csv', index_col=['starttime'], parse_dates=['starttime'])\n",
    "#jun_20.info()\n",
    "#jul_20 = pd.read_csv('data/202007-citibike-tripdata.csv', index_col=['starttime'], parse_dates=['starttime'])\n",
    "#jul_20.info()\n",
    "#aug_20 = pd.read_csv('data/202008-citibike-tripdata.csv', index_col=['starttime'], parse_dates=['starttime'])\n",
    "#aug_20.info()\n",
    "#sep_20 = pd.read_csv('data/202009-citibike-tripdata.csv', index_col=['starttime'], parse_dates=['starttime'])\n",
    "#sep_20.info()"
   ]
  },
  {
   "cell_type": "code",
   "execution_count": 36,
   "metadata": {},
   "outputs": [],
   "source": [
    "# For Reference When Making Changes\n",
    "#ytd_20[['tripduration', 'age']].describe().round(2)\n",
    "#ytd_20.head()\n",
    "#ytd_20.info()"
   ]
  },
  {
   "cell_type": "code",
   "execution_count": 37,
   "metadata": {},
   "outputs": [],
   "source": [
    "# YTD 2020\n",
    "# Merge month files\n",
    "#ytd_20 = pd.concat([jan_20, feb_20, mar_20, apr_20, may_20, jun_20, jul_20, aug_20, sep_20])\n",
    "#ytd_20.info()\n",
    "\n",
    "# Add Age Column\n",
    "#year = 2020\n",
    "#ytd_20['age'] = year - ytd_20['birth year']\n",
    "\n",
    "# Filter Age/Ride Time\n",
    "#ytd_20[['tripduration', 'age']].describe().round(2)\n",
    "\n",
    "#len(ytd_20[ytd_20['age'] > 100])\n",
    "#ytd_20[ytd_20['age'] > 100] = np.nan\n",
    "\n",
    "#len(ytd_20[ytd_20['tripduration'] > 10800])\n",
    "#ytd_20[ytd_20['tripduration'] > 10800] = np.nan\n",
    "#ytd_20.info()\n",
    "\n",
    "# Remove Unneeded Columns\n",
    "#cln = ['tripduration', 'start station name', 'end station name', 'bikeid', 'usertype', 'age', 'gender']\n",
    "#ytd_20 = ytd_20[cln]\n",
    "#ytd_20.head()"
   ]
  },
  {
   "cell_type": "code",
   "execution_count": 38,
   "metadata": {},
   "outputs": [],
   "source": [
    "# Write YTD to a CSV File\n",
    "#ytd_20.to_csv('cb_2020.csv')"
   ]
  },
  {
   "cell_type": "code",
   "execution_count": 6,
   "metadata": {},
   "outputs": [],
   "source": [
    "# Testing to See if this Worked\n",
    "#full_20 = pd.read_csv('cb_2020.csv', index_col=[0], parse_dates=[0])\n",
    "#full_20.info()\n",
    "#full_20.loc['2020-03-16':'2020-03-22']\n",
    "#full_20.columns\n",
    "#full_20.loc[]\n",
    "#full_20.loc['2019-08-22'][['tripduration', 'age']].describe().round(2)"
   ]
  },
  {
   "cell_type": "code",
   "execution_count": null,
   "metadata": {},
   "outputs": [],
   "source": []
  }
 ],
 "metadata": {
  "kernelspec": {
   "display_name": "myenv",
   "language": "python",
   "name": "myenv"
  },
  "language_info": {
   "codemirror_mode": {
    "name": "ipython",
    "version": 3
   },
   "file_extension": ".py",
   "mimetype": "text/x-python",
   "name": "python",
   "nbconvert_exporter": "python",
   "pygments_lexer": "ipython3",
   "version": "3.7.9"
  }
 },
 "nbformat": 4,
 "nbformat_minor": 4
}
