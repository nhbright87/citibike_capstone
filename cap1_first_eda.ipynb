{
 "cells": [
  {
   "cell_type": "code",
   "execution_count": 1,
   "metadata": {},
   "outputs": [],
   "source": [
    "import pandas as pd\n",
    "import numpy as np\n",
    "import matplotlib.pyplot as plt\n",
    "from datetime import datetime"
   ]
  },
  {
   "cell_type": "code",
   "execution_count": 2,
   "metadata": {},
   "outputs": [],
   "source": [
    "sep_20 = pd.read_csv('data/202009-citibike-tripdata.csv', index_col=['starttime'], parse_dates=['starttime'])"
   ]
  },
  {
   "cell_type": "code",
   "execution_count": 3,
   "metadata": {},
   "outputs": [
    {
     "data": {
      "text/html": [
       "<div>\n",
       "<style scoped>\n",
       "    .dataframe tbody tr th:only-of-type {\n",
       "        vertical-align: middle;\n",
       "    }\n",
       "\n",
       "    .dataframe tbody tr th {\n",
       "        vertical-align: top;\n",
       "    }\n",
       "\n",
       "    .dataframe thead th {\n",
       "        text-align: right;\n",
       "    }\n",
       "</style>\n",
       "<table border=\"1\" class=\"dataframe\">\n",
       "  <thead>\n",
       "    <tr style=\"text-align: right;\">\n",
       "      <th></th>\n",
       "      <th>tripduration</th>\n",
       "      <th>stoptime</th>\n",
       "      <th>start station id</th>\n",
       "      <th>start station name</th>\n",
       "      <th>start station latitude</th>\n",
       "      <th>start station longitude</th>\n",
       "      <th>end station id</th>\n",
       "      <th>end station name</th>\n",
       "      <th>end station latitude</th>\n",
       "      <th>end station longitude</th>\n",
       "      <th>bikeid</th>\n",
       "      <th>usertype</th>\n",
       "      <th>birth year</th>\n",
       "      <th>gender</th>\n",
       "    </tr>\n",
       "    <tr>\n",
       "      <th>starttime</th>\n",
       "      <th></th>\n",
       "      <th></th>\n",
       "      <th></th>\n",
       "      <th></th>\n",
       "      <th></th>\n",
       "      <th></th>\n",
       "      <th></th>\n",
       "      <th></th>\n",
       "      <th></th>\n",
       "      <th></th>\n",
       "      <th></th>\n",
       "      <th></th>\n",
       "      <th></th>\n",
       "      <th></th>\n",
       "    </tr>\n",
       "  </thead>\n",
       "  <tbody>\n",
       "    <tr>\n",
       "      <th>2020-09-01 00:00:01.043</th>\n",
       "      <td>4225</td>\n",
       "      <td>2020-09-01 01:10:26.6350</td>\n",
       "      <td>3508</td>\n",
       "      <td>St Nicholas Ave &amp; Manhattan Ave</td>\n",
       "      <td>40.809725</td>\n",
       "      <td>-73.953149</td>\n",
       "      <td>116</td>\n",
       "      <td>W 17 St &amp; 8 Ave</td>\n",
       "      <td>40.741776</td>\n",
       "      <td>-74.001497</td>\n",
       "      <td>44317</td>\n",
       "      <td>Customer</td>\n",
       "      <td>1979</td>\n",
       "      <td>1</td>\n",
       "    </tr>\n",
       "    <tr>\n",
       "      <th>2020-09-01 00:00:04.832</th>\n",
       "      <td>1868</td>\n",
       "      <td>2020-09-01 00:31:13.7650</td>\n",
       "      <td>3621</td>\n",
       "      <td>27 Ave &amp; 9 St</td>\n",
       "      <td>40.773983</td>\n",
       "      <td>-73.930913</td>\n",
       "      <td>3094</td>\n",
       "      <td>Graham Ave &amp; Withers St</td>\n",
       "      <td>40.716981</td>\n",
       "      <td>-73.944859</td>\n",
       "      <td>37793</td>\n",
       "      <td>Customer</td>\n",
       "      <td>1991</td>\n",
       "      <td>1</td>\n",
       "    </tr>\n",
       "    <tr>\n",
       "      <th>2020-09-01 00:00:06.899</th>\n",
       "      <td>1097</td>\n",
       "      <td>2020-09-01 00:18:24.2260</td>\n",
       "      <td>3492</td>\n",
       "      <td>E 118 St &amp; Park Ave</td>\n",
       "      <td>40.800539</td>\n",
       "      <td>-73.941995</td>\n",
       "      <td>3959</td>\n",
       "      <td>Edgecombe Ave &amp; W 145 St</td>\n",
       "      <td>40.823498</td>\n",
       "      <td>-73.943860</td>\n",
       "      <td>41438</td>\n",
       "      <td>Subscriber</td>\n",
       "      <td>1984</td>\n",
       "      <td>1</td>\n",
       "    </tr>\n",
       "    <tr>\n",
       "      <th>2020-09-01 00:00:07.744</th>\n",
       "      <td>1473</td>\n",
       "      <td>2020-09-01 00:24:41.1800</td>\n",
       "      <td>3946</td>\n",
       "      <td>St Nicholas Ave &amp; W 137 St</td>\n",
       "      <td>40.818477</td>\n",
       "      <td>-73.947568</td>\n",
       "      <td>4002</td>\n",
       "      <td>W 144 St &amp; Adam Clayton Powell Blvd</td>\n",
       "      <td>40.820877</td>\n",
       "      <td>-73.939249</td>\n",
       "      <td>35860</td>\n",
       "      <td>Customer</td>\n",
       "      <td>1990</td>\n",
       "      <td>2</td>\n",
       "    </tr>\n",
       "    <tr>\n",
       "      <th>2020-09-01 00:00:12.202</th>\n",
       "      <td>1193</td>\n",
       "      <td>2020-09-01 00:20:05.5470</td>\n",
       "      <td>3081</td>\n",
       "      <td>Graham Ave &amp; Grand St</td>\n",
       "      <td>40.711863</td>\n",
       "      <td>-73.944024</td>\n",
       "      <td>3048</td>\n",
       "      <td>Putnam Ave &amp; Nostrand Ave</td>\n",
       "      <td>40.684020</td>\n",
       "      <td>-73.949770</td>\n",
       "      <td>26396</td>\n",
       "      <td>Customer</td>\n",
       "      <td>1969</td>\n",
       "      <td>0</td>\n",
       "    </tr>\n",
       "  </tbody>\n",
       "</table>\n",
       "</div>"
      ],
      "text/plain": [
       "                         tripduration                  stoptime  \\\n",
       "starttime                                                         \n",
       "2020-09-01 00:00:01.043          4225  2020-09-01 01:10:26.6350   \n",
       "2020-09-01 00:00:04.832          1868  2020-09-01 00:31:13.7650   \n",
       "2020-09-01 00:00:06.899          1097  2020-09-01 00:18:24.2260   \n",
       "2020-09-01 00:00:07.744          1473  2020-09-01 00:24:41.1800   \n",
       "2020-09-01 00:00:12.202          1193  2020-09-01 00:20:05.5470   \n",
       "\n",
       "                         start station id               start station name  \\\n",
       "starttime                                                                    \n",
       "2020-09-01 00:00:01.043              3508  St Nicholas Ave & Manhattan Ave   \n",
       "2020-09-01 00:00:04.832              3621                    27 Ave & 9 St   \n",
       "2020-09-01 00:00:06.899              3492              E 118 St & Park Ave   \n",
       "2020-09-01 00:00:07.744              3946       St Nicholas Ave & W 137 St   \n",
       "2020-09-01 00:00:12.202              3081            Graham Ave & Grand St   \n",
       "\n",
       "                         start station latitude  start station longitude  \\\n",
       "starttime                                                                  \n",
       "2020-09-01 00:00:01.043               40.809725               -73.953149   \n",
       "2020-09-01 00:00:04.832               40.773983               -73.930913   \n",
       "2020-09-01 00:00:06.899               40.800539               -73.941995   \n",
       "2020-09-01 00:00:07.744               40.818477               -73.947568   \n",
       "2020-09-01 00:00:12.202               40.711863               -73.944024   \n",
       "\n",
       "                         end station id                     end station name  \\\n",
       "starttime                                                                      \n",
       "2020-09-01 00:00:01.043             116                      W 17 St & 8 Ave   \n",
       "2020-09-01 00:00:04.832            3094              Graham Ave & Withers St   \n",
       "2020-09-01 00:00:06.899            3959             Edgecombe Ave & W 145 St   \n",
       "2020-09-01 00:00:07.744            4002  W 144 St & Adam Clayton Powell Blvd   \n",
       "2020-09-01 00:00:12.202            3048            Putnam Ave & Nostrand Ave   \n",
       "\n",
       "                         end station latitude  end station longitude  bikeid  \\\n",
       "starttime                                                                      \n",
       "2020-09-01 00:00:01.043             40.741776             -74.001497   44317   \n",
       "2020-09-01 00:00:04.832             40.716981             -73.944859   37793   \n",
       "2020-09-01 00:00:06.899             40.823498             -73.943860   41438   \n",
       "2020-09-01 00:00:07.744             40.820877             -73.939249   35860   \n",
       "2020-09-01 00:00:12.202             40.684020             -73.949770   26396   \n",
       "\n",
       "                           usertype  birth year  gender  \n",
       "starttime                                                \n",
       "2020-09-01 00:00:01.043    Customer        1979       1  \n",
       "2020-09-01 00:00:04.832    Customer        1991       1  \n",
       "2020-09-01 00:00:06.899  Subscriber        1984       1  \n",
       "2020-09-01 00:00:07.744    Customer        1990       2  \n",
       "2020-09-01 00:00:12.202    Customer        1969       0  "
      ]
     },
     "execution_count": 3,
     "metadata": {},
     "output_type": "execute_result"
    }
   ],
   "source": [
    "'''Ingesting and Concatenating CSVs'''\n",
    "\n",
    "#summ_20 = pd.concat(map(pd.read_csv,['data/202008-citibike-tripdata.csv', 'data/202007-citibike-tripdata.csv','data/202006-citibike-tripdata.csv']))\n",
    "#aug_20 = pd.read_csv('data/202008-citibike-tripdata.csv', index_col=['starttime'], parse_dates=['starttime'])\n",
    "#jul_20 = pd.read_csv('data/202007-citibike-tripdata.csv', index_col=['starttime'], parse_dates=['starttime'])\n",
    "#jun_20 = pd.read_csv('data/202006-citibike-tripdata.csv', index_col=['starttime'], parse_dates=['starttime'])\n",
    "#q3_20 = pd.concat([aug_20, jul_20, jun_20])\n",
    "sep_20.head()"
   ]
  },
  {
   "cell_type": "code",
   "execution_count": 3,
   "metadata": {},
   "outputs": [],
   "source": [
    "# Testing New StartTime Indexing\n",
    "#q3_20.info()\n",
    "#q3_20.head(10)\n",
    "#q3_20.tail(10)\n",
    "#sep_20[['tripduration', 'birth year', 'age']].describe().round(2)\n",
    "#sep_20.info()"
   ]
  },
  {
   "cell_type": "code",
   "execution_count": 107,
   "metadata": {},
   "outputs": [],
   "source": [
    "#len(q3_20[q3_20['age'] > 100])\n",
    "#q3_20[q3_20['age']  > 100] = np.nan\n",
    "\n",
    "#len(q3_20[q3_20['tripduration'] > 10800])\n",
    "#q3_20[q3_20['tripduration'] > 10800] = np.nan"
   ]
  },
  {
   "cell_type": "code",
   "execution_count": 10,
   "metadata": {},
   "outputs": [
    {
     "data": {
      "text/html": [
       "<div>\n",
       "<style scoped>\n",
       "    .dataframe tbody tr th:only-of-type {\n",
       "        vertical-align: middle;\n",
       "    }\n",
       "\n",
       "    .dataframe tbody tr th {\n",
       "        vertical-align: top;\n",
       "    }\n",
       "\n",
       "    .dataframe thead th {\n",
       "        text-align: right;\n",
       "    }\n",
       "</style>\n",
       "<table border=\"1\" class=\"dataframe\">\n",
       "  <thead>\n",
       "    <tr style=\"text-align: right;\">\n",
       "      <th></th>\n",
       "      <th>tripduration</th>\n",
       "      <th>age</th>\n",
       "    </tr>\n",
       "  </thead>\n",
       "  <tbody>\n",
       "    <tr>\n",
       "      <th>count</th>\n",
       "      <td>2480103.00</td>\n",
       "      <td>2480103.00</td>\n",
       "    </tr>\n",
       "    <tr>\n",
       "      <th>mean</th>\n",
       "      <td>1074.15</td>\n",
       "      <td>38.14</td>\n",
       "    </tr>\n",
       "    <tr>\n",
       "      <th>std</th>\n",
       "      <td>939.19</td>\n",
       "      <td>12.24</td>\n",
       "    </tr>\n",
       "    <tr>\n",
       "      <th>min</th>\n",
       "      <td>61.00</td>\n",
       "      <td>16.00</td>\n",
       "    </tr>\n",
       "    <tr>\n",
       "      <th>25%</th>\n",
       "      <td>456.00</td>\n",
       "      <td>28.00</td>\n",
       "    </tr>\n",
       "    <tr>\n",
       "      <th>50%</th>\n",
       "      <td>822.00</td>\n",
       "      <td>35.00</td>\n",
       "    </tr>\n",
       "    <tr>\n",
       "      <th>75%</th>\n",
       "      <td>1426.00</td>\n",
       "      <td>50.00</td>\n",
       "    </tr>\n",
       "    <tr>\n",
       "      <th>max</th>\n",
       "      <td>10800.00</td>\n",
       "      <td>100.00</td>\n",
       "    </tr>\n",
       "  </tbody>\n",
       "</table>\n",
       "</div>"
      ],
      "text/plain": [
       "       tripduration         age\n",
       "count    2480103.00  2480103.00\n",
       "mean        1074.15       38.14\n",
       "std          939.19       12.24\n",
       "min           61.00       16.00\n",
       "25%          456.00       28.00\n",
       "50%          822.00       35.00\n",
       "75%         1426.00       50.00\n",
       "max        10800.00      100.00"
      ]
     },
     "execution_count": 10,
     "metadata": {},
     "output_type": "execute_result"
    }
   ],
   "source": [
    "# Age and Trip Duration Cleaning\n",
    "#sep_20[['tripduration', 'age']].describe().round(2)\n",
    "#len(sep_20[sep_20['age'] > 100])\n",
    "#sep_20[sep_20['age']  > 100] = np.nan\n",
    "\n",
    "#len(sep_20[sep_20['tripduration'] > 10800])\n",
    "#sep_20[sep_20['tripduration'] > 10800] = np.nan\n",
    "#sep_20.head()"
   ]
  },
  {
   "cell_type": "code",
   "execution_count": 85,
   "metadata": {},
   "outputs": [],
   "source": [
    "# Misc. Exploration\n",
    "#summ_20['usertype'].value_counts()\n",
    "#summ_20['birth year'].min()\n",
    "#summ_20['birth year'].max()\n",
    "#summ_20['birth year'].mean()\n",
    "#num_bikes = summ_20['bikeid'].unique()\n",
    "#len(num_bikes)\n",
    "#sep_20.head()\n",
    "#sep_20.describe().round(2)\n",
    "#sep_20.info()"
   ]
  },
  {
   "cell_type": "code",
   "execution_count": 3,
   "metadata": {},
   "outputs": [],
   "source": [
    "# Calculate Age\n",
    "#a_by = sep_20['birth year'][0]\n",
    "#t = sep_20.iloc[0]\n",
    "#now = 2020\n",
    "#age = now - a_by\n",
    "#age\n",
    "#sep_20['age'] = now - sep_20['birth year']\n",
    "#sep_20.head()\n",
    "#sep_20['2020-9-22 12']\n",
    "#sep_20['age'].describe().round(2)"
   ]
  },
  {
   "cell_type": "code",
   "execution_count": 119,
   "metadata": {},
   "outputs": [
    {
     "data": {
      "image/png": "[encoded data removed]",
      "text/plain": [
       "<Figure size 432x288 with 1 Axes>"
      ]
     },
     "metadata": {
      "needs_background": "light"
     },
     "output_type": "display_data"
    }
   ],
   "source": [
    "# Start and End times are not in datetime format\n",
    "#c = pd.to_datetime\n",
    "#sep_20[0]\n",
    "#d = pd.Timestamp(c)\n",
    "#type(d)\n",
    "#e = pd.to_datetime(c)\n",
    "#for date, time in 'stoptime':\n",
    "#    sep_20['startdate'] = [date in stoptime.split(' ') for stop in sep_20.stoptime]\n",
    "#= c.split(' ')\n",
    "#date\n",
    "#time\n",
    "#new_st = sep_20['starttime'].str.split(' ',n=1, expand=True)\n",
    "#sep_20['startdate']=new[0]\n",
    "#sep_20['start time']=new[1]\n",
    "#sep_20.drop(columns='starttime', inplace=True)\n",
    "\n",
    "#new = sep_20['stoptime'].str.split(' ',n=1, expand=True)\n",
    "#sep_20['stopdate']=new[0]\n",
    "#sd = sep_20['stopdate'][0]\n",
    "#type(sd)\n",
    "#dt = sep_20['startdate'][0]\n",
    "#dtd = pd.to_datetime(dt, yearfirst=True)\n",
    "#dtd\n",
    "\n",
    "#c = sep_cln.groupby(by=[sep_cln.index.day])\n",
    "w1 = sep_cln.loc['2020-09-01':'2020-09-6'].count()\n",
    "w2 = sep_cln.loc['2020-09-07':'2020-09-13'].count()\n",
    "w3 = sep_cln.loc['2020-09-14':'2020-09-20'].count()\n",
    "w4 = sep_cln.loc['2020-09-21':'2020-09-27'].count()\n",
    "w5 = sep_cln.loc['2020-09-28':'2020-09-30'].count()\n",
    "sep = [w1, w2, w3, w4, w5]\n",
    "plt.plot(sep)\n",
    "plt.show()"
   ]
  },
  {
   "cell_type": "code",
   "execution_count": 121,
   "metadata": {},
   "outputs": [
    {
     "data": {
      "text/plain": [
       "tripduration          223109\n",
       "start station name    223109\n",
       "end station name      223109\n",
       "bikeid                223109\n",
       "usertype              223109\n",
       "age                   223109\n",
       "gender                223109\n",
       "dtype: int64"
      ]
     },
     "execution_count": 121,
     "metadata": {},
     "output_type": "execute_result"
    }
   ],
   "source": [
    "w5"
   ]
  },
  {
   "cell_type": "code",
   "execution_count": 12,
   "metadata": {},
   "outputs": [
    {
     "data": {
      "text/html": [
       "<div>\n",
       "<style scoped>\n",
       "    .dataframe tbody tr th:only-of-type {\n",
       "        vertical-align: middle;\n",
       "    }\n",
       "\n",
       "    .dataframe tbody tr th {\n",
       "        vertical-align: top;\n",
       "    }\n",
       "\n",
       "    .dataframe thead th {\n",
       "        text-align: right;\n",
       "    }\n",
       "</style>\n",
       "<table border=\"1\" class=\"dataframe\">\n",
       "  <thead>\n",
       "    <tr style=\"text-align: right;\">\n",
       "      <th></th>\n",
       "      <th>tripduration</th>\n",
       "      <th>start station name</th>\n",
       "      <th>end station name</th>\n",
       "      <th>bikeid</th>\n",
       "      <th>usertype</th>\n",
       "      <th>age</th>\n",
       "      <th>gender</th>\n",
       "    </tr>\n",
       "    <tr>\n",
       "      <th>starttime</th>\n",
       "      <th></th>\n",
       "      <th></th>\n",
       "      <th></th>\n",
       "      <th></th>\n",
       "      <th></th>\n",
       "      <th></th>\n",
       "      <th></th>\n",
       "    </tr>\n",
       "  </thead>\n",
       "  <tbody>\n",
       "    <tr>\n",
       "      <th>2020-09-01 00:00:01.043</th>\n",
       "      <td>4225.0</td>\n",
       "      <td>St Nicholas Ave &amp; Manhattan Ave</td>\n",
       "      <td>W 17 St &amp; 8 Ave</td>\n",
       "      <td>44317.0</td>\n",
       "      <td>Customer</td>\n",
       "      <td>41.0</td>\n",
       "      <td>1.0</td>\n",
       "    </tr>\n",
       "    <tr>\n",
       "      <th>2020-09-01 00:00:04.832</th>\n",
       "      <td>1868.0</td>\n",
       "      <td>27 Ave &amp; 9 St</td>\n",
       "      <td>Graham Ave &amp; Withers St</td>\n",
       "      <td>37793.0</td>\n",
       "      <td>Customer</td>\n",
       "      <td>29.0</td>\n",
       "      <td>1.0</td>\n",
       "    </tr>\n",
       "    <tr>\n",
       "      <th>2020-09-01 00:00:06.899</th>\n",
       "      <td>1097.0</td>\n",
       "      <td>E 118 St &amp; Park Ave</td>\n",
       "      <td>Edgecombe Ave &amp; W 145 St</td>\n",
       "      <td>41438.0</td>\n",
       "      <td>Subscriber</td>\n",
       "      <td>36.0</td>\n",
       "      <td>1.0</td>\n",
       "    </tr>\n",
       "    <tr>\n",
       "      <th>2020-09-01 00:00:07.744</th>\n",
       "      <td>1473.0</td>\n",
       "      <td>St Nicholas Ave &amp; W 137 St</td>\n",
       "      <td>W 144 St &amp; Adam Clayton Powell Blvd</td>\n",
       "      <td>35860.0</td>\n",
       "      <td>Customer</td>\n",
       "      <td>30.0</td>\n",
       "      <td>2.0</td>\n",
       "    </tr>\n",
       "    <tr>\n",
       "      <th>2020-09-01 00:00:12.202</th>\n",
       "      <td>1193.0</td>\n",
       "      <td>Graham Ave &amp; Grand St</td>\n",
       "      <td>Putnam Ave &amp; Nostrand Ave</td>\n",
       "      <td>26396.0</td>\n",
       "      <td>Customer</td>\n",
       "      <td>51.0</td>\n",
       "      <td>0.0</td>\n",
       "    </tr>\n",
       "  </tbody>\n",
       "</table>\n",
       "</div>"
      ],
      "text/plain": [
       "                         tripduration               start station name  \\\n",
       "starttime                                                                \n",
       "2020-09-01 00:00:01.043        4225.0  St Nicholas Ave & Manhattan Ave   \n",
       "2020-09-01 00:00:04.832        1868.0                    27 Ave & 9 St   \n",
       "2020-09-01 00:00:06.899        1097.0              E 118 St & Park Ave   \n",
       "2020-09-01 00:00:07.744        1473.0       St Nicholas Ave & W 137 St   \n",
       "2020-09-01 00:00:12.202        1193.0            Graham Ave & Grand St   \n",
       "\n",
       "                                            end station name   bikeid  \\\n",
       "starttime                                                               \n",
       "2020-09-01 00:00:01.043                      W 17 St & 8 Ave  44317.0   \n",
       "2020-09-01 00:00:04.832              Graham Ave & Withers St  37793.0   \n",
       "2020-09-01 00:00:06.899             Edgecombe Ave & W 145 St  41438.0   \n",
       "2020-09-01 00:00:07.744  W 144 St & Adam Clayton Powell Blvd  35860.0   \n",
       "2020-09-01 00:00:12.202            Putnam Ave & Nostrand Ave  26396.0   \n",
       "\n",
       "                           usertype   age  gender  \n",
       "starttime                                          \n",
       "2020-09-01 00:00:01.043    Customer  41.0     1.0  \n",
       "2020-09-01 00:00:04.832    Customer  29.0     1.0  \n",
       "2020-09-01 00:00:06.899  Subscriber  36.0     1.0  \n",
       "2020-09-01 00:00:07.744    Customer  30.0     2.0  \n",
       "2020-09-01 00:00:12.202    Customer  51.0     0.0  "
      ]
     },
     "execution_count": 12,
     "metadata": {},
     "output_type": "execute_result"
    }
   ],
   "source": [
    "# Clean Columns\n",
    "#cln = ['tripduration', 'start station name', 'end station name', 'bikeid', 'usertype', 'age', 'gender']\n",
    "#sep_cln = sep_20[cln]\n",
    "#sep_20_cln.head()\n",
    "#sep_20_cln.describe().round(2)\n",
    "sep_cln.head()\n",
    "#z = q3_cln['gender']\n",
    "#plt.hist(z, bins=3)\n",
    "#plt.show()"
   ]
  },
  {
   "cell_type": "code",
   "execution_count": 2,
   "metadata": {},
   "outputs": [],
   "source": [
    "#UserType Breakdown\n",
    "#q3_cln['usertype'].value_counts()"
   ]
  },
  {
   "cell_type": "code",
   "execution_count": 1,
   "metadata": {},
   "outputs": [],
   "source": [
    "#Birth Year Breakdown\n",
    "#sep_20['birth year'].min()\n",
    "#sep_20['birth year'].max()\n",
    "#sep_20['birth year'].mean()\n",
    "#age = sep_20[sep_20['birth year'] > 1920]\n",
    "#age_dist = age['birth year'].value_counts()\n",
    "#age_dist\n",
    "#plt.hist(age_dist)\n",
    "#plt.show()\n",
    "#sep_cln.head()"
   ]
  },
  {
   "cell_type": "code",
   "execution_count": 97,
   "metadata": {},
   "outputs": [
    {
     "data": {
      "text/plain": [
       "1.0    1432688\n",
       "2.0     744324\n",
       "0.0     303091\n",
       "Name: gender, dtype: int64"
      ]
     },
     "execution_count": 97,
     "metadata": {},
     "output_type": "execute_result"
    }
   ],
   "source": [
    "#sep_cln.iloc[0]\n",
    "#sep_cln.to_csv('sep_20.csv')\n",
    "#jul_20.to_csv('sep_20.csv', mode='a', header=False)\n",
    "#too_cln = pd.read_csv('sep_20.csv')#, index_col=['starttime'], parse_dates=['starttime'])\n",
    "#too_cln.iloc[0]\n",
    "#too_cln.head()\n",
    "#too_cln.info()\n",
    "gend"
   ]
  },
  {
   "cell_type": "code",
   "execution_count": 1,
   "metadata": {
    "scrolled": false
   },
   "outputs": [
    {
     "ename": "NameError",
     "evalue": "name 'sep_cln' is not defined",
     "output_type": "error",
     "traceback": [
      "\u001b[0;31m---------------------------------------------------------------------------\u001b[0m",
      "\u001b[0;31mNameError\u001b[0m                                 Traceback (most recent call last)",
      "\u001b[0;32m<ipython-input-1-6308cd28da11>\u001b[0m in \u001b[0;36m<module>\u001b[0;34m\u001b[0m\n\u001b[1;32m      1\u001b[0m \u001b[0;31m# Gender Breakdown\u001b[0m\u001b[0;34m\u001b[0m\u001b[0;34m\u001b[0m\u001b[0;34m\u001b[0m\u001b[0m\n\u001b[0;32m----> 2\u001b[0;31m \u001b[0mgend\u001b[0m \u001b[0;34m=\u001b[0m \u001b[0msep_cln\u001b[0m\u001b[0;34m[\u001b[0m\u001b[0;34m'gender'\u001b[0m\u001b[0;34m]\u001b[0m\u001b[0;34m.\u001b[0m\u001b[0mvalue_counts\u001b[0m\u001b[0;34m(\u001b[0m\u001b[0;34m)\u001b[0m\u001b[0;34m\u001b[0m\u001b[0;34m\u001b[0m\u001b[0m\n\u001b[0m\u001b[1;32m      3\u001b[0m \u001b[0;31m#age_dist = sep_cln['age'].value_counts()\u001b[0m\u001b[0;34m\u001b[0m\u001b[0;34m\u001b[0m\u001b[0;34m\u001b[0m\u001b[0m\n\u001b[1;32m      4\u001b[0m \u001b[0;31m#age_dist\u001b[0m\u001b[0;34m\u001b[0m\u001b[0;34m\u001b[0m\u001b[0;34m\u001b[0m\u001b[0m\n\u001b[1;32m      5\u001b[0m \u001b[0;31m#gends = sep_cln['gender']\u001b[0m\u001b[0;34m\u001b[0m\u001b[0;34m\u001b[0m\u001b[0;34m\u001b[0m\u001b[0m\n",
      "\u001b[0;31mNameError\u001b[0m: name 'sep_cln' is not defined"
     ]
    }
   ],
   "source": [
    "# Gender Breakdown\n",
    "gend = sep_cln['gender'].value_counts()\n",
    "#age_dist = sep_cln['age'].value_counts()\n",
    "#age_dist\n",
    "#gends = sep_cln['gender']\n",
    "ages = sep_cln['age']\n",
    "\n",
    "#Final Age Dist Graph\n",
    "plt.hist(ages, bins=(25), range=(15, 85), label='Rider Age')\n",
    "plt.show()"
   ]
  },
  {
   "cell_type": "code",
   "execution_count": 92,
   "metadata": {},
   "outputs": [
    {
     "data": {
      "image/png": "[encoded data removed]",
      "text/plain": [
       "<Figure size 432x288 with 1 Axes>"
      ]
     },
     "metadata": {},
     "output_type": "display_data"
    }
   ],
   "source": [
    "gends = sep_cln['gender']\n",
    "use_t = sep_cln['usertype'].value_counts()\n",
    "ages = sep_cln['age']\n",
    "age_dist = sep_cln['age'].value_counts()\n",
    "#age_dist\n",
    "#plt.hist(use_t)\n",
    "#plt.boxplot(age_dist)\n",
    "#plt.show()\n",
    "#fig, ax = plt.subplots()\n",
    "#ax.set_title('Rider Ages')\n",
    "#ax.boxplot(age_dist, showfliers=False)\n",
    "#ax.hist(gends)\n",
    "#ax.set_xticklabels([])\n",
    "#ax.set_xticks([])\n",
    "#ax.set_xlabel('User Type')\n",
    "\n",
    "#Final User Type Dist Graph\n",
    "plt.pie(use_t, labels=('Subscribers', 'Customers'))\n",
    "plt.show()"
   ]
  },
  {
   "cell_type": "code",
   "execution_count": 106,
   "metadata": {},
   "outputs": [
    {
     "data": {
      "image/png": "[encoded data removed]",
      "text/plain": [
       "<Figure size 432x288 with 1 Axes>"
      ]
     },
     "metadata": {
      "needs_background": "light"
     },
     "output_type": "display_data"
    }
   ],
   "source": [
    "# Most Used Bike\n",
    "#best_bike = q3_cln['bikeid']\n",
    "#best_bike.mean()\n",
    "#plt.hist(gends)\n",
    "#plt.show()\n",
    "\n",
    "# Final Gender Dist Plot\n",
    "fig, ax = plt.subplots()\n",
    "ax.hist(gends, bins=3)\n",
    "ax.set_ylim(auto=True)\n",
    "ax.set_xticks([0, 1, 2])\n",
    "ax.set_xticklabels(['Unk','Male', 'Female'])\n",
    "ax.set_xlabel('Gender')\n",
    "plt.show()"
   ]
  },
  {
   "cell_type": "code",
   "execution_count": 4,
   "metadata": {},
   "outputs": [
    {
     "data": {
      "text/plain": [
       "1087"
      ]
     },
     "execution_count": 4,
     "metadata": {},
     "output_type": "execute_result"
    }
   ],
   "source": [
    "# Number of Bikes in Use\n",
    "#num_bikes = sep_20['bikeid'].unique()\n",
    "#len(num_bikes)\n",
    "\n",
    "stations = sep_20['start station id'].unique()\n",
    "len(stations)"
   ]
  },
  {
   "cell_type": "code",
   "execution_count": 35,
   "metadata": {},
   "outputs": [],
   "source": [
    "#starts = sep_20['start station name'].value_counts()\n",
    "#len(starts)\n",
    "#starts.head(10)"
   ]
  },
  {
   "cell_type": "code",
   "execution_count": 34,
   "metadata": {},
   "outputs": [],
   "source": [
    "#ends = sep_20['end station name'].value_counts()\n",
    "#len(ends)\n",
    "#ends.tail()"
   ]
  },
  {
   "cell_type": "code",
   "execution_count": 33,
   "metadata": {},
   "outputs": [],
   "source": [
    "#q3_20.head()\n",
    "#now = 2020\n",
    "#q3_20['age'] = now - q3_20['birth year']\n",
    "#q3_cln = q3_20[cln]\n",
    "#q3_cln.head()\n",
    "#q3_cln[['tripduration', 'age']].describe().round(2)"
   ]
  },
  {
   "cell_type": "code",
   "execution_count": 32,
   "metadata": {},
   "outputs": [],
   "source": [
    "#q3_cln.loc['2020-07'][['tripduration', 'age']].describe().round(2)"
   ]
  },
  {
   "cell_type": "code",
   "execution_count": 31,
   "metadata": {},
   "outputs": [],
   "source": [
    "#q3_cln['month'] = q3_cln['starttime'].dt.month"
   ]
  },
  {
   "cell_type": "code",
   "execution_count": null,
   "metadata": {},
   "outputs": [],
   "source": [
    "'''# Count of Rides/Birth Years Filtered\n",
    "H1 17: 13323/2089\n",
    "H2 17: 18212/4511\n",
    "H1 18: 13690/5938\n",
    "H2 18: 16055/5209\n",
    "H1 19: 16192/4841\n",
    "H2 19: 16970/4965\n",
    "YTD 2020: 50723/7592\n",
    "9/20: 6931/1191\n",
    "'''"
   ]
  },
  {
   "cell_type": "code",
   "execution_count": 160,
   "metadata": {},
   "outputs": [
    {
     "name": "stdout",
     "output_type": "stream",
     "text": [
      "<class 'pandas.core.frame.DataFrame'>\n",
      "RangeIndex: 45 entries, 0 to 44\n",
      "Data columns (total 2 columns):\n",
      " #   Column  Non-Null Count  Dtype \n",
      "---  ------  --------------  ----- \n",
      " 0   month   45 non-null     object\n",
      " 1   rides   45 non-null     int64 \n",
      "dtypes: int64(1), object(1)\n",
      "memory usage: 848.0+ bytes\n"
     ]
    }
   ],
   "source": [
    "data = pd.DataFrame(\n",
    "    {'month':['2017-01', '2017-02', '2017-03', '2017-04', '2017-05', '2017-06', \n",
    "              '2017-07', '2017-08', '2017-09', '2017-10', '2017-11', '2017-12', \n",
    "              '2018-01', '2018-02', '2018-03', '2018-04', '2018-05', '2018-06', \n",
    "              '2018-07', '2018-08', '2018-09', '2018-10', '2018-11', '2018-12',\n",
    "              '2019-01', '2019-02', '2019-03', '2019-04', '2019-05', '2019-06', \n",
    "              '2019-07', '2019-08', '2019-09', '2019-10', '2019-11', '2019-12',\n",
    "              '2020-01', '2020-02', '2020-03', '2020-04', '2020-05', '2020-06', \n",
    "              '2020-07', '2020-08', '2020-09'], \n",
    "     'rides':[726676, 791647, 727665, 1315404, 1523268, 1731594, 1735599, 1816498, \n",
    "             1878098, 1897592, 1330649, 889967, 718994, 843114, 976672, 1307543, \n",
    "             1824710, 1953103, 1913625, 1977177, 1877884, 1878657, 1260355, 1016505,\n",
    "             967287, 943744, 1327960, 1766094, 1924563, 2125370, 2181064, 2344224, \n",
    "             2444900, 2092573, 1478708, 955210, 1240596, 1146830, 1068457, 682762, \n",
    "             1487890, 1882273, 2105808, 2329514, 2488225]})\n",
    "#data\n",
    "data.info()\n",
    "#data.set_index('month')\n",
    "#data['month'] = pd.to_datetime(data['month'])\n",
    "#data.loc['2017']\n",
    "#plt.plot(data['rides'])"
   ]
  },
  {
   "cell_type": "code",
   "execution_count": null,
   "metadata": {},
   "outputs": [],
   "source": [
    "'''Monthly Rides\n",
    "Jan 2017: 726676\n",
    "Feb 2017: 791647\n",
    "Mar 2017: 727665\n",
    "Apr 2017: 1315404\n",
    "May 2017: 1523268\n",
    "Jun 2017: 1731594\n",
    "Jul 17: 1735599\n",
    "Aug 17: 1816498\n",
    "Sep 17: 1878098\n",
    "Oct 17: 1897592\n",
    "Nov 17: 1330649\n",
    "Dec 17: 889967\n",
    "\n",
    "Jan 18: 718994\n",
    "Feb 18: 843114\n",
    "Mar 18: 976672\n",
    "Apr 18: 1307543\n",
    "May 18: 1824710\n",
    "Jun 18: 1953103\n",
    "Jul 18: 1913625\n",
    "Aug 18: 1977177\n",
    "Sep 18: 1877884\n",
    "Oct 18: 1878657\n",
    "Nov 18: 1260355\n",
    "Dec 18: 1016505\n",
    "\n",
    "Jan 19: 967287\n",
    "Feb 19: 943744\n",
    "Mar 19: 1327960\n",
    "Apr 19: 1766094\n",
    "May 19: 1924563\n",
    "Jun 19: 2125370\n",
    "Jul 19: 2181064\n",
    "Aug 19: 2344224\n",
    "Sep 19: 2444900\n",
    "Oct 19: 2092573\n",
    "Nov 19: 1478708\n",
    "Dec 19: 955210\n",
    "\n",
    "Jan 20: 1240596\n",
    "Feb 20: 1146830\n",
    "Mar 20: 1068457\n",
    "Apr 20: 682762\n",
    "May 20: 1487890\n",
    "Jun 20: 1882273\n",
    "Jul 20: 2105808\n",
    "Aug 20: 2329514\n",
    "Sep 20: 2488225\n",
    "'''"
   ]
  },
  {
   "cell_type": "code",
   "execution_count": 25,
   "metadata": {},
   "outputs": [],
   "source": [
    "x=1599413\n",
    "y=8679776\n",
    "z=4094851\n",
    "\n",
    "t = x+y+z\n",
    "x_1 = x/t\n",
    "y_1 = y/t\n",
    "z_1 = z/t"
   ]
  },
  {
   "cell_type": "code",
   "execution_count": 26,
   "metadata": {},
   "outputs": [
    {
     "data": {
      "text/plain": [
       "0.1112709440073911"
      ]
     },
     "execution_count": 26,
     "metadata": {},
     "output_type": "execute_result"
    }
   ],
   "source": [
    "x_1"
   ]
  },
  {
   "cell_type": "code",
   "execution_count": 27,
   "metadata": {},
   "outputs": [
    {
     "data": {
      "text/plain": [
       "0.6038508310815888"
      ]
     },
     "execution_count": 27,
     "metadata": {},
     "output_type": "execute_result"
    }
   ],
   "source": [
    "y_1"
   ]
  },
  {
   "cell_type": "code",
   "execution_count": 28,
   "metadata": {},
   "outputs": [
    {
     "data": {
      "text/plain": [
       "0.28487822491102016"
      ]
     },
     "execution_count": 28,
     "metadata": {},
     "output_type": "execute_result"
    }
   ],
   "source": [
    "z_1"
   ]
  },
  {
   "cell_type": "code",
   "execution_count": null,
   "metadata": {},
   "outputs": [],
   "source": []
  }
 ],
 "metadata": {
  "kernelspec": {
   "display_name": "myenv",
   "language": "python",
   "name": "myenv"
  },
  "language_info": {
   "codemirror_mode": {
    "name": "ipython",
    "version": 3
   },
   "file_extension": ".py",
   "mimetype": "text/x-python",
   "name": "python",
   "nbconvert_exporter": "python",
   "pygments_lexer": "ipython3",
   "version": "3.7.9"
  }
 },
 "nbformat": 4,
 "nbformat_minor": 4
}
